{
 "cells": [
  {
   "cell_type": "markdown",
   "id": "69c4501e",
   "metadata": {},
   "source": [
    "# Importing Important Modules"
   ]
  },
  {
   "cell_type": "code",
   "execution_count": 275,
   "id": "6b19b0b6",
   "metadata": {},
   "outputs": [],
   "source": [
    "import numpy as np\n",
    "import pandas as pd\n",
    "import matplotlib.pyplot as plt\n",
    "import seaborn as sns"
   ]
  },
  {
   "cell_type": "markdown",
   "id": "2f8e815a",
   "metadata": {},
   "source": [
    "# Reading the dataset"
   ]
  },
  {
   "cell_type": "code",
   "execution_count": 276,
   "id": "7943b2ea",
   "metadata": {},
   "outputs": [],
   "source": [
    "df = pd.read_csv(r\"C:\\Users\\sreeh\\Downloads\\Obesity.csv\")"
   ]
  },
  {
   "cell_type": "code",
   "execution_count": 277,
   "id": "2ee97746",
   "metadata": {},
   "outputs": [
    {
     "data": {
      "text/html": [
       "<div>\n",
       "<style scoped>\n",
       "    .dataframe tbody tr th:only-of-type {\n",
       "        vertical-align: middle;\n",
       "    }\n",
       "\n",
       "    .dataframe tbody tr th {\n",
       "        vertical-align: top;\n",
       "    }\n",
       "\n",
       "    .dataframe thead th {\n",
       "        text-align: right;\n",
       "    }\n",
       "</style>\n",
       "<table border=\"1\" class=\"dataframe\">\n",
       "  <thead>\n",
       "    <tr style=\"text-align: right;\">\n",
       "      <th></th>\n",
       "      <th>Gender</th>\n",
       "      <th>Age</th>\n",
       "      <th>Height</th>\n",
       "      <th>Weight</th>\n",
       "      <th>family_history_with_overweight</th>\n",
       "      <th>FAVC</th>\n",
       "      <th>FCVC</th>\n",
       "      <th>NCP</th>\n",
       "      <th>CAEC</th>\n",
       "      <th>SMOKE</th>\n",
       "      <th>CH2O</th>\n",
       "      <th>SCC</th>\n",
       "      <th>FAF</th>\n",
       "      <th>TUE</th>\n",
       "      <th>CALC</th>\n",
       "      <th>MTRANS</th>\n",
       "      <th>NObeyesdad</th>\n",
       "    </tr>\n",
       "  </thead>\n",
       "  <tbody>\n",
       "    <tr>\n",
       "      <th>0</th>\n",
       "      <td>Female</td>\n",
       "      <td>21.0</td>\n",
       "      <td>1.62</td>\n",
       "      <td>64.0</td>\n",
       "      <td>yes</td>\n",
       "      <td>no</td>\n",
       "      <td>2.0</td>\n",
       "      <td>3.0</td>\n",
       "      <td>Sometimes</td>\n",
       "      <td>no</td>\n",
       "      <td>2.0</td>\n",
       "      <td>no</td>\n",
       "      <td>0.0</td>\n",
       "      <td>1.0</td>\n",
       "      <td>no</td>\n",
       "      <td>Public_Transportation</td>\n",
       "      <td>Normal_Weight</td>\n",
       "    </tr>\n",
       "    <tr>\n",
       "      <th>1</th>\n",
       "      <td>Female</td>\n",
       "      <td>21.0</td>\n",
       "      <td>1.52</td>\n",
       "      <td>56.0</td>\n",
       "      <td>yes</td>\n",
       "      <td>no</td>\n",
       "      <td>3.0</td>\n",
       "      <td>3.0</td>\n",
       "      <td>Sometimes</td>\n",
       "      <td>yes</td>\n",
       "      <td>3.0</td>\n",
       "      <td>yes</td>\n",
       "      <td>3.0</td>\n",
       "      <td>0.0</td>\n",
       "      <td>Sometimes</td>\n",
       "      <td>Public_Transportation</td>\n",
       "      <td>Normal_Weight</td>\n",
       "    </tr>\n",
       "    <tr>\n",
       "      <th>2</th>\n",
       "      <td>Male</td>\n",
       "      <td>23.0</td>\n",
       "      <td>1.80</td>\n",
       "      <td>77.0</td>\n",
       "      <td>yes</td>\n",
       "      <td>no</td>\n",
       "      <td>2.0</td>\n",
       "      <td>3.0</td>\n",
       "      <td>Sometimes</td>\n",
       "      <td>no</td>\n",
       "      <td>2.0</td>\n",
       "      <td>no</td>\n",
       "      <td>2.0</td>\n",
       "      <td>1.0</td>\n",
       "      <td>Frequently</td>\n",
       "      <td>Public_Transportation</td>\n",
       "      <td>Normal_Weight</td>\n",
       "    </tr>\n",
       "    <tr>\n",
       "      <th>3</th>\n",
       "      <td>Male</td>\n",
       "      <td>27.0</td>\n",
       "      <td>1.80</td>\n",
       "      <td>87.0</td>\n",
       "      <td>no</td>\n",
       "      <td>no</td>\n",
       "      <td>3.0</td>\n",
       "      <td>3.0</td>\n",
       "      <td>Sometimes</td>\n",
       "      <td>no</td>\n",
       "      <td>2.0</td>\n",
       "      <td>no</td>\n",
       "      <td>2.0</td>\n",
       "      <td>0.0</td>\n",
       "      <td>Frequently</td>\n",
       "      <td>Walking</td>\n",
       "      <td>Overweight_Level_I</td>\n",
       "    </tr>\n",
       "    <tr>\n",
       "      <th>4</th>\n",
       "      <td>Male</td>\n",
       "      <td>22.0</td>\n",
       "      <td>1.78</td>\n",
       "      <td>89.8</td>\n",
       "      <td>no</td>\n",
       "      <td>no</td>\n",
       "      <td>2.0</td>\n",
       "      <td>1.0</td>\n",
       "      <td>Sometimes</td>\n",
       "      <td>no</td>\n",
       "      <td>2.0</td>\n",
       "      <td>no</td>\n",
       "      <td>0.0</td>\n",
       "      <td>0.0</td>\n",
       "      <td>Sometimes</td>\n",
       "      <td>Public_Transportation</td>\n",
       "      <td>Overweight_Level_II</td>\n",
       "    </tr>\n",
       "  </tbody>\n",
       "</table>\n",
       "</div>"
      ],
      "text/plain": [
       "   Gender   Age  Height  Weight family_history_with_overweight FAVC  FCVC  \\\n",
       "0  Female  21.0    1.62    64.0                            yes   no   2.0   \n",
       "1  Female  21.0    1.52    56.0                            yes   no   3.0   \n",
       "2    Male  23.0    1.80    77.0                            yes   no   2.0   \n",
       "3    Male  27.0    1.80    87.0                             no   no   3.0   \n",
       "4    Male  22.0    1.78    89.8                             no   no   2.0   \n",
       "\n",
       "   NCP       CAEC SMOKE  CH2O  SCC  FAF  TUE        CALC  \\\n",
       "0  3.0  Sometimes    no   2.0   no  0.0  1.0          no   \n",
       "1  3.0  Sometimes   yes   3.0  yes  3.0  0.0   Sometimes   \n",
       "2  3.0  Sometimes    no   2.0   no  2.0  1.0  Frequently   \n",
       "3  3.0  Sometimes    no   2.0   no  2.0  0.0  Frequently   \n",
       "4  1.0  Sometimes    no   2.0   no  0.0  0.0   Sometimes   \n",
       "\n",
       "                  MTRANS           NObeyesdad  \n",
       "0  Public_Transportation        Normal_Weight  \n",
       "1  Public_Transportation        Normal_Weight  \n",
       "2  Public_Transportation        Normal_Weight  \n",
       "3                Walking   Overweight_Level_I  \n",
       "4  Public_Transportation  Overweight_Level_II  "
      ]
     },
     "execution_count": 277,
     "metadata": {},
     "output_type": "execute_result"
    }
   ],
   "source": [
    "df.head()"
   ]
  },
  {
   "cell_type": "markdown",
   "id": "c2ce9008",
   "metadata": {},
   "source": [
    "# Exploratory data analysis"
   ]
  },
  {
   "cell_type": "code",
   "execution_count": 278,
   "id": "a4488a64",
   "metadata": {},
   "outputs": [
    {
     "data": {
      "image/png": "[encoded data removed]",
      "text/plain": [
       "<Figure size 640x480 with 1 Axes>"
      ]
     },
     "metadata": {},
     "output_type": "display_data"
    }
   ],
   "source": [
    "sns.countplot(x=\"Gender\", data = df)\n",
    " \n",
    "plt.xlabel(\"Gender\")\n",
    "plt.ylabel(\"Count\")\n",
    "plt.title(\"Barplot Gender\")\n",
    "plt.show()"
   ]
  },
  {
   "cell_type": "code",
   "execution_count": 279,
   "id": "53fbdc6b",
   "metadata": {},
   "outputs": [
    {
     "data": {
      "image/png": "[encoded data removed]",
      "text/plain": [
       "<Figure size 640x480 with 1 Axes>"
      ]
     },
     "metadata": {},
     "output_type": "display_data"
    }
   ],
   "source": [
    "sns.countplot(x=\"FAVC\", data = df)\n",
    "\n",
    "plt.xlabel(\"Frequent consumption of high caloric food\")\n",
    "plt.ylabel(\"count\")\n",
    "plt.title(\"Barplot of Daily Calorie Consumption\")\n",
    "plt.show()"
   ]
  },
  {
   "cell_type": "code",
   "execution_count": 280,
   "id": "7b697500",
   "metadata": {},
   "outputs": [
    {
     "data": {
      "image/png": "[encoded data removed]",
      "text/plain": [
       "<Figure size 640x480 with 1 Axes>"
      ]
     },
     "metadata": {},
     "output_type": "display_data"
    }
   ],
   "source": [
    "sns.countplot(x=\"family_history_with_overweight\", data = df)\n",
    "plt.xlabel(\"History of Overweight in the Family\")\n",
    "plt.ylabel(\"count\")\n",
    "plt.title(\"Barplot of History of Overweight in the Family\")\n",
    "plt.show()"
   ]
  },
  {
   "cell_type": "code",
   "execution_count": 281,
   "id": "e852ee42",
   "metadata": {},
   "outputs": [
    {
     "data": {
      "image/png": "[encoded data removed]",
      "text/plain": [
       "<Figure size 640x480 with 1 Axes>"
      ]
     },
     "metadata": {},
     "output_type": "display_data"
    }
   ],
   "source": [
    "sns.countplot(x=\"CAEC\", data = df)\n",
    "\n",
    "plt.xlabel(\"Frequency Level\")\n",
    "plt.ylabel(\"count\")\n",
    "plt.title(\"Barplot of Food Consumption after Meal Time\")\n",
    "plt.show()"
   ]
  },
  {
   "cell_type": "markdown",
   "id": "c467b83a",
   "metadata": {},
   "source": [
    "# Preprocessing"
   ]
  },
  {
   "cell_type": "code",
   "execution_count": 282,
   "id": "85156161",
   "metadata": {},
   "outputs": [
    {
     "name": "stdout",
     "output_type": "stream",
     "text": [
      "<class 'pandas.core.frame.DataFrame'>\n",
      "RangeIndex: 2111 entries, 0 to 2110\n",
      "Data columns (total 17 columns):\n",
      " #   Column                          Non-Null Count  Dtype  \n",
      "---  ------                          --------------  -----  \n",
      " 0   Gender                          2102 non-null   object \n",
      " 1   Age                             2111 non-null   float64\n",
      " 2   Height                          2101 non-null   float64\n",
      " 3   Weight                          2111 non-null   float64\n",
      " 4   family_history_with_overweight  2105 non-null   object \n",
      " 5   FAVC                            2111 non-null   object \n",
      " 6   FCVC                            2111 non-null   float64\n",
      " 7   NCP                             2111 non-null   float64\n",
      " 8   CAEC                            2102 non-null   object \n",
      " 9   SMOKE                           2111 non-null   object \n",
      " 10  CH2O                            2111 non-null   float64\n",
      " 11  SCC                             2104 non-null   object \n",
      " 12  FAF                             2111 non-null   float64\n",
      " 13  TUE                             2111 non-null   float64\n",
      " 14  CALC                            2111 non-null   object \n",
      " 15  MTRANS                          2104 non-null   object \n",
      " 16  NObeyesdad                      2111 non-null   object \n",
      "dtypes: float64(8), object(9)\n",
      "memory usage: 280.5+ KB\n"
     ]
    }
   ],
   "source": [
    "df.info()#To get the general info"
   ]
  },
  {
   "cell_type": "code",
   "execution_count": 283,
   "id": "61f47337",
   "metadata": {},
   "outputs": [
    {
     "data": {
      "text/plain": [
       "(2111, 17)"
      ]
     },
     "execution_count": 283,
     "metadata": {},
     "output_type": "execute_result"
    }
   ],
   "source": [
    "df.shape  #shape of the dataset"
   ]
  },
  {
   "cell_type": "code",
   "execution_count": 284,
   "id": "3d99558e",
   "metadata": {},
   "outputs": [
    {
     "data": {
      "text/plain": [
       "Gender                             9\n",
       "Age                                0\n",
       "Height                            10\n",
       "Weight                             0\n",
       "family_history_with_overweight     6\n",
       "FAVC                               0\n",
       "FCVC                               0\n",
       "NCP                                0\n",
       "CAEC                               9\n",
       "SMOKE                              0\n",
       "CH2O                               0\n",
       "SCC                                7\n",
       "FAF                                0\n",
       "TUE                                0\n",
       "CALC                               0\n",
       "MTRANS                             7\n",
       "NObeyesdad                         0\n",
       "dtype: int64"
      ]
     },
     "execution_count": 284,
     "metadata": {},
     "output_type": "execute_result"
    }
   ],
   "source": [
    "df.isna().sum() #finding null values"
   ]
  },
  {
   "cell_type": "markdown",
   "id": "21a8372e",
   "metadata": {},
   "source": [
    "# Filling the null values"
   ]
  },
  {
   "cell_type": "code",
   "execution_count": 285,
   "id": "d29c2a1d",
   "metadata": {},
   "outputs": [],
   "source": [
    "df['CAEC'].fillna(df['CAEC'].mode()[0], inplace=True) #filling the null values"
   ]
  },
  {
   "cell_type": "code",
   "execution_count": 286,
   "id": "d2ebb575",
   "metadata": {},
   "outputs": [],
   "source": [
    "df['Gender'].fillna(df['Gender'].mode()[0], inplace=True)"
   ]
  },
  {
   "cell_type": "code",
   "execution_count": 287,
   "id": "3ee9ad6e",
   "metadata": {},
   "outputs": [],
   "source": [
    "df['MTRANS'].fillna(df['MTRANS'].mode()[0], inplace=True)"
   ]
  },
  {
   "cell_type": "code",
   "execution_count": 288,
   "id": "64195eeb",
   "metadata": {},
   "outputs": [],
   "source": [
    "df['SCC'].fillna(df['SCC'].mode()[0], inplace=True)"
   ]
  },
  {
   "cell_type": "code",
   "execution_count": 289,
   "id": "b45be43b",
   "metadata": {},
   "outputs": [],
   "source": [
    "df['CAEC'].fillna(df['CAEC'].mode()[0], inplace=True)"
   ]
  },
  {
   "cell_type": "code",
   "execution_count": 290,
   "id": "a8a155df",
   "metadata": {},
   "outputs": [],
   "source": [
    "df['family_history_with_overweight'].fillna(df['family_history_with_overweight'].mode()[0], inplace=True)"
   ]
  },
  {
   "cell_type": "code",
   "execution_count": 291,
   "id": "687162b9",
   "metadata": {},
   "outputs": [],
   "source": [
    "df['Height'] = df.groupby('Gender')['Height'].transform(lambda x: x.fillna(x.mean()))"
   ]
  },
  {
   "cell_type": "code",
   "execution_count": 292,
   "id": "dc450fd7",
   "metadata": {},
   "outputs": [
    {
     "data": {
      "text/plain": [
       "Gender                            0\n",
       "Age                               0\n",
       "Height                            0\n",
       "Weight                            0\n",
       "family_history_with_overweight    0\n",
       "FAVC                              0\n",
       "FCVC                              0\n",
       "NCP                               0\n",
       "CAEC                              0\n",
       "SMOKE                             0\n",
       "CH2O                              0\n",
       "SCC                               0\n",
       "FAF                               0\n",
       "TUE                               0\n",
       "CALC                              0\n",
       "MTRANS                            0\n",
       "NObeyesdad                        0\n",
       "dtype: int64"
      ]
     },
     "execution_count": 292,
     "metadata": {},
     "output_type": "execute_result"
    }
   ],
   "source": [
    "df.isna().sum()  # checking again to see if there are any more null values"
   ]
  },
  {
   "cell_type": "markdown",
   "id": "0885c6d0",
   "metadata": {},
   "source": [
    "# Encoding categorical values using lable encoder"
   ]
  },
  {
   "cell_type": "code",
   "execution_count": 293,
   "id": "953584fd",
   "metadata": {},
   "outputs": [],
   "source": [
    "from sklearn.preprocessing import LabelEncoder\n",
    "\n",
    "label_encoder = LabelEncoder()\n",
    "\n",
    "categorical_columns = [\"Gender\", \"family_history_with_overweight\", \"FAVC\", \"CAEC\", \"SMOKE\", \"SCC\", \"CALC\", \"MTRANS\"]\n",
    "\n",
    "for col in categorical_columns:\n",
    "    df[col] = label_encoder.fit_transform(df[col])\n",
    "\n",
    "for col in categorical_columns:\n",
    "    df[col] = df[col].astype('category')"
   ]
  },
  {
   "cell_type": "markdown",
   "id": "32098d42",
   "metadata": {},
   "source": [
    "# Splitting the x and Y dataset for training and testing"
   ]
  },
  {
   "cell_type": "code",
   "execution_count": 294,
   "id": "82b3d163",
   "metadata": {},
   "outputs": [],
   "source": [
    "df1 = df.copy()\n",
    "Y = df['NObeyesdad']\n",
    "X = df.drop(columns = ['NObeyesdad'])"
   ]
  },
  {
   "cell_type": "code",
   "execution_count": 295,
   "id": "4410a79b",
   "metadata": {},
   "outputs": [],
   "source": [
    "from sklearn.model_selection import train_test_split\n",
    "\n",
    "X_train, X_test, Y_train, Y_test = train_test_split(X, Y, test_size = 0.3, random_state = 0)"
   ]
  },
  {
   "cell_type": "code",
   "execution_count": 296,
   "id": "dec1ee78",
   "metadata": {},
   "outputs": [
    {
     "data": {
      "text/html": [
       "<div>\n",
       "<style scoped>\n",
       "    .dataframe tbody tr th:only-of-type {\n",
       "        vertical-align: middle;\n",
       "    }\n",
       "\n",
       "    .dataframe tbody tr th {\n",
       "        vertical-align: top;\n",
       "    }\n",
       "\n",
       "    .dataframe thead th {\n",
       "        text-align: right;\n",
       "    }\n",
       "</style>\n",
       "<table border=\"1\" class=\"dataframe\">\n",
       "  <thead>\n",
       "    <tr style=\"text-align: right;\">\n",
       "      <th></th>\n",
       "      <th>Gender</th>\n",
       "      <th>Age</th>\n",
       "      <th>Height</th>\n",
       "      <th>Weight</th>\n",
       "      <th>family_history_with_overweight</th>\n",
       "      <th>FAVC</th>\n",
       "      <th>FCVC</th>\n",
       "      <th>NCP</th>\n",
       "      <th>CAEC</th>\n",
       "      <th>SMOKE</th>\n",
       "      <th>CH2O</th>\n",
       "      <th>SCC</th>\n",
       "      <th>FAF</th>\n",
       "      <th>TUE</th>\n",
       "      <th>CALC</th>\n",
       "      <th>MTRANS</th>\n",
       "    </tr>\n",
       "  </thead>\n",
       "  <tbody>\n",
       "    <tr>\n",
       "      <th>412</th>\n",
       "      <td>1</td>\n",
       "      <td>33.000000</td>\n",
       "      <td>1.850000</td>\n",
       "      <td>85.000000</td>\n",
       "      <td>0</td>\n",
       "      <td>1</td>\n",
       "      <td>2.000000</td>\n",
       "      <td>3.000000</td>\n",
       "      <td>1</td>\n",
       "      <td>0</td>\n",
       "      <td>2.000000</td>\n",
       "      <td>0</td>\n",
       "      <td>1.000000</td>\n",
       "      <td>0.000000</td>\n",
       "      <td>2</td>\n",
       "      <td>0</td>\n",
       "    </tr>\n",
       "    <tr>\n",
       "      <th>651</th>\n",
       "      <td>0</td>\n",
       "      <td>21.529439</td>\n",
       "      <td>1.592379</td>\n",
       "      <td>44.009450</td>\n",
       "      <td>0</td>\n",
       "      <td>0</td>\n",
       "      <td>3.000000</td>\n",
       "      <td>1.612747</td>\n",
       "      <td>1</td>\n",
       "      <td>0</td>\n",
       "      <td>2.566629</td>\n",
       "      <td>0</td>\n",
       "      <td>1.190465</td>\n",
       "      <td>0.000000</td>\n",
       "      <td>3</td>\n",
       "      <td>3</td>\n",
       "    </tr>\n",
       "    <tr>\n",
       "      <th>1460</th>\n",
       "      <td>1</td>\n",
       "      <td>23.000000</td>\n",
       "      <td>1.742500</td>\n",
       "      <td>105.028665</td>\n",
       "      <td>1</td>\n",
       "      <td>1</td>\n",
       "      <td>2.393837</td>\n",
       "      <td>3.000000</td>\n",
       "      <td>2</td>\n",
       "      <td>0</td>\n",
       "      <td>2.014990</td>\n",
       "      <td>0</td>\n",
       "      <td>0.978815</td>\n",
       "      <td>0.413220</td>\n",
       "      <td>2</td>\n",
       "      <td>3</td>\n",
       "    </tr>\n",
       "    <tr>\n",
       "      <th>1419</th>\n",
       "      <td>1</td>\n",
       "      <td>31.783524</td>\n",
       "      <td>1.672959</td>\n",
       "      <td>90.000000</td>\n",
       "      <td>1</td>\n",
       "      <td>1</td>\n",
       "      <td>2.949242</td>\n",
       "      <td>1.782109</td>\n",
       "      <td>2</td>\n",
       "      <td>0</td>\n",
       "      <td>2.210997</td>\n",
       "      <td>0</td>\n",
       "      <td>1.992719</td>\n",
       "      <td>0.000000</td>\n",
       "      <td>2</td>\n",
       "      <td>0</td>\n",
       "    </tr>\n",
       "    <tr>\n",
       "      <th>1433</th>\n",
       "      <td>0</td>\n",
       "      <td>22.307413</td>\n",
       "      <td>1.605495</td>\n",
       "      <td>82.528575</td>\n",
       "      <td>1</td>\n",
       "      <td>1</td>\n",
       "      <td>2.049112</td>\n",
       "      <td>2.622055</td>\n",
       "      <td>2</td>\n",
       "      <td>0</td>\n",
       "      <td>2.280555</td>\n",
       "      <td>0</td>\n",
       "      <td>2.052896</td>\n",
       "      <td>0.896185</td>\n",
       "      <td>3</td>\n",
       "      <td>3</td>\n",
       "    </tr>\n",
       "  </tbody>\n",
       "</table>\n",
       "</div>"
      ],
      "text/plain": [
       "     Gender        Age    Height      Weight family_history_with_overweight  \\\n",
       "412       1  33.000000  1.850000   85.000000                              0   \n",
       "651       0  21.529439  1.592379   44.009450                              0   \n",
       "1460      1  23.000000  1.742500  105.028665                              1   \n",
       "1419      1  31.783524  1.672959   90.000000                              1   \n",
       "1433      0  22.307413  1.605495   82.528575                              1   \n",
       "\n",
       "     FAVC      FCVC       NCP CAEC SMOKE      CH2O SCC       FAF       TUE  \\\n",
       "412     1  2.000000  3.000000    1     0  2.000000   0  1.000000  0.000000   \n",
       "651     0  3.000000  1.612747    1     0  2.566629   0  1.190465  0.000000   \n",
       "1460    1  2.393837  3.000000    2     0  2.014990   0  0.978815  0.413220   \n",
       "1419    1  2.949242  1.782109    2     0  2.210997   0  1.992719  0.000000   \n",
       "1433    1  2.049112  2.622055    2     0  2.280555   0  2.052896  0.896185   \n",
       "\n",
       "     CALC MTRANS  \n",
       "412     2      0  \n",
       "651     3      3  \n",
       "1460    2      3  \n",
       "1419    2      0  \n",
       "1433    3      3  "
      ]
     },
     "execution_count": 296,
     "metadata": {},
     "output_type": "execute_result"
    }
   ],
   "source": [
    "X_train.head(5)"
   ]
  },
  {
   "cell_type": "code",
   "execution_count": 297,
   "id": "c46db81a",
   "metadata": {},
   "outputs": [],
   "source": [
    "X_test = np.array(X_test)"
   ]
  },
  {
   "cell_type": "markdown",
   "id": "a82376ba",
   "metadata": {},
   "source": [
    "# Using kNN model"
   ]
  },
  {
   "cell_type": "code",
   "execution_count": 305,
   "id": "75a490e3",
   "metadata": {
    "scrolled": true
   },
   "outputs": [
    {
     "name": "stderr",
     "output_type": "stream",
     "text": [
      "C:\\Users\\sreeh\\anaconda3\\Lib\\site-packages\\sklearn\\base.py:464: UserWarning: X does not have valid feature names, but KNeighborsClassifier was fitted with feature names\n",
      "  warnings.warn(\n"
     ]
    },
    {
     "data": {
      "text/plain": [
       "array(['Obesity_Type_II', 'Obesity_Type_I', 'Overweight_Level_I',\n",
       "       'Obesity_Type_III', 'Obesity_Type_III', 'Obesity_Type_II',\n",
       "       'Insufficient_Weight', 'Obesity_Type_III', 'Obesity_Type_I',\n",
       "       'Obesity_Type_II', 'Obesity_Type_III', 'Obesity_Type_I',\n",
       "       'Normal_Weight', 'Obesity_Type_I', 'Normal_Weight',\n",
       "       'Obesity_Type_I', 'Overweight_Level_I', 'Obesity_Type_III',\n",
       "       'Overweight_Level_II', 'Overweight_Level_II', 'Obesity_Type_III',\n",
       "       'Obesity_Type_I', 'Obesity_Type_I', 'Overweight_Level_II',\n",
       "       'Obesity_Type_I', 'Obesity_Type_II', 'Obesity_Type_III',\n",
       "       'Obesity_Type_I', 'Obesity_Type_I', 'Obesity_Type_II',\n",
       "       'Overweight_Level_I', 'Normal_Weight', 'Overweight_Level_II',\n",
       "       'Obesity_Type_I', 'Obesity_Type_II', 'Overweight_Level_I',\n",
       "       'Overweight_Level_II', 'Insufficient_Weight', 'Overweight_Level_I',\n",
       "       'Insufficient_Weight', 'Overweight_Level_I', 'Overweight_Level_II',\n",
       "       'Insufficient_Weight', 'Overweight_Level_II', 'Obesity_Type_III',\n",
       "       'Obesity_Type_II', 'Obesity_Type_I', 'Insufficient_Weight',\n",
       "       'Obesity_Type_III', 'Insufficient_Weight', 'Overweight_Level_I',\n",
       "       'Obesity_Type_II', 'Obesity_Type_II', 'Overweight_Level_I',\n",
       "       'Obesity_Type_I', 'Obesity_Type_I', 'Overweight_Level_I',\n",
       "       'Obesity_Type_I', 'Obesity_Type_II', 'Normal_Weight',\n",
       "       'Obesity_Type_I', 'Normal_Weight', 'Obesity_Type_I',\n",
       "       'Insufficient_Weight', 'Insufficient_Weight', 'Obesity_Type_II',\n",
       "       'Obesity_Type_I', 'Overweight_Level_I', 'Overweight_Level_I',\n",
       "       'Obesity_Type_I', 'Overweight_Level_II', 'Obesity_Type_III',\n",
       "       'Obesity_Type_II', 'Obesity_Type_I', 'Obesity_Type_I',\n",
       "       'Overweight_Level_I', 'Overweight_Level_II', 'Normal_Weight',\n",
       "       'Obesity_Type_II', 'Insufficient_Weight', 'Overweight_Level_II',\n",
       "       'Overweight_Level_I', 'Obesity_Type_I', 'Overweight_Level_I',\n",
       "       'Overweight_Level_I', 'Normal_Weight', 'Insufficient_Weight',\n",
       "       'Obesity_Type_II', 'Obesity_Type_III', 'Obesity_Type_II',\n",
       "       'Overweight_Level_I', 'Insufficient_Weight', 'Insufficient_Weight',\n",
       "       'Obesity_Type_III', 'Overweight_Level_II', 'Obesity_Type_III',\n",
       "       'Obesity_Type_I', 'Obesity_Type_II', 'Obesity_Type_II',\n",
       "       'Obesity_Type_II', 'Insufficient_Weight', 'Obesity_Type_I',\n",
       "       'Insufficient_Weight', 'Overweight_Level_I', 'Obesity_Type_III',\n",
       "       'Obesity_Type_I', 'Overweight_Level_II', 'Obesity_Type_III',\n",
       "       'Overweight_Level_I', 'Overweight_Level_II', 'Insufficient_Weight',\n",
       "       'Overweight_Level_I', 'Obesity_Type_I', 'Normal_Weight',\n",
       "       'Obesity_Type_I', 'Obesity_Type_I', 'Obesity_Type_I',\n",
       "       'Obesity_Type_I', 'Overweight_Level_II', 'Insufficient_Weight',\n",
       "       'Obesity_Type_I', 'Obesity_Type_III', 'Insufficient_Weight',\n",
       "       'Insufficient_Weight', 'Obesity_Type_III', 'Overweight_Level_II',\n",
       "       'Obesity_Type_I', 'Overweight_Level_I', 'Overweight_Level_II',\n",
       "       'Overweight_Level_I', 'Insufficient_Weight', 'Insufficient_Weight',\n",
       "       'Insufficient_Weight', 'Obesity_Type_I', 'Overweight_Level_II',\n",
       "       'Obesity_Type_III', 'Overweight_Level_I', 'Obesity_Type_II',\n",
       "       'Obesity_Type_III', 'Obesity_Type_II', 'Overweight_Level_II',\n",
       "       'Overweight_Level_II', 'Insufficient_Weight',\n",
       "       'Insufficient_Weight', 'Insufficient_Weight',\n",
       "       'Insufficient_Weight', 'Overweight_Level_II',\n",
       "       'Overweight_Level_II', 'Obesity_Type_I', 'Insufficient_Weight',\n",
       "       'Overweight_Level_II', 'Overweight_Level_I', 'Obesity_Type_III',\n",
       "       'Obesity_Type_III', 'Obesity_Type_III', 'Obesity_Type_I',\n",
       "       'Overweight_Level_II', 'Insufficient_Weight', 'Obesity_Type_II',\n",
       "       'Overweight_Level_I', 'Obesity_Type_I', 'Obesity_Type_III',\n",
       "       'Obesity_Type_I', 'Obesity_Type_III', 'Insufficient_Weight',\n",
       "       'Insufficient_Weight', 'Obesity_Type_II', 'Obesity_Type_I',\n",
       "       'Overweight_Level_I', 'Obesity_Type_III', 'Overweight_Level_I',\n",
       "       'Obesity_Type_II', 'Obesity_Type_III', 'Normal_Weight',\n",
       "       'Overweight_Level_I', 'Obesity_Type_II', 'Obesity_Type_I',\n",
       "       'Insufficient_Weight', 'Insufficient_Weight', 'Obesity_Type_II',\n",
       "       'Overweight_Level_I', 'Obesity_Type_I', 'Obesity_Type_III',\n",
       "       'Obesity_Type_III', 'Obesity_Type_III', 'Insufficient_Weight',\n",
       "       'Overweight_Level_I', 'Overweight_Level_II', 'Obesity_Type_II',\n",
       "       'Obesity_Type_III', 'Obesity_Type_I', 'Overweight_Level_II',\n",
       "       'Obesity_Type_II', 'Overweight_Level_II', 'Overweight_Level_I',\n",
       "       'Obesity_Type_III', 'Obesity_Type_II', 'Obesity_Type_II',\n",
       "       'Obesity_Type_I', 'Obesity_Type_I', 'Normal_Weight',\n",
       "       'Insufficient_Weight', 'Overweight_Level_I', 'Overweight_Level_I',\n",
       "       'Obesity_Type_I', 'Overweight_Level_II', 'Obesity_Type_I',\n",
       "       'Obesity_Type_I', 'Obesity_Type_I', 'Insufficient_Weight',\n",
       "       'Normal_Weight', 'Insufficient_Weight', 'Insufficient_Weight',\n",
       "       'Obesity_Type_II', 'Obesity_Type_II', 'Overweight_Level_II',\n",
       "       'Overweight_Level_I', 'Obesity_Type_III', 'Overweight_Level_II',\n",
       "       'Obesity_Type_III', 'Obesity_Type_II', 'Obesity_Type_I',\n",
       "       'Normal_Weight', 'Insufficient_Weight', 'Obesity_Type_III',\n",
       "       'Obesity_Type_III', 'Normal_Weight', 'Overweight_Level_II',\n",
       "       'Overweight_Level_I', 'Insufficient_Weight', 'Obesity_Type_III',\n",
       "       'Obesity_Type_III', 'Overweight_Level_I', 'Obesity_Type_III',\n",
       "       'Insufficient_Weight', 'Obesity_Type_II', 'Normal_Weight',\n",
       "       'Obesity_Type_I', 'Obesity_Type_I', 'Obesity_Type_III',\n",
       "       'Obesity_Type_I', 'Insufficient_Weight', 'Obesity_Type_III',\n",
       "       'Obesity_Type_III', 'Normal_Weight', 'Insufficient_Weight',\n",
       "       'Insufficient_Weight', 'Obesity_Type_III', 'Overweight_Level_II',\n",
       "       'Overweight_Level_I', 'Obesity_Type_I', 'Overweight_Level_II',\n",
       "       'Overweight_Level_II', 'Obesity_Type_III', 'Overweight_Level_I',\n",
       "       'Obesity_Type_III', 'Insufficient_Weight', 'Obesity_Type_III',\n",
       "       'Obesity_Type_I', 'Normal_Weight', 'Obesity_Type_III',\n",
       "       'Normal_Weight', 'Overweight_Level_I', 'Normal_Weight',\n",
       "       'Insufficient_Weight', 'Obesity_Type_I', 'Obesity_Type_II',\n",
       "       'Insufficient_Weight', 'Normal_Weight', 'Obesity_Type_III',\n",
       "       'Overweight_Level_II', 'Obesity_Type_I', 'Obesity_Type_III',\n",
       "       'Insufficient_Weight', 'Obesity_Type_I', 'Obesity_Type_III',\n",
       "       'Insufficient_Weight', 'Overweight_Level_I', 'Insufficient_Weight',\n",
       "       'Overweight_Level_II', 'Obesity_Type_I', 'Normal_Weight',\n",
       "       'Insufficient_Weight', 'Overweight_Level_I', 'Overweight_Level_II',\n",
       "       'Normal_Weight', 'Obesity_Type_I', 'Obesity_Type_III',\n",
       "       'Overweight_Level_II', 'Obesity_Type_III', 'Obesity_Type_III',\n",
       "       'Obesity_Type_II', 'Normal_Weight', 'Obesity_Type_III',\n",
       "       'Obesity_Type_III', 'Overweight_Level_I', 'Insufficient_Weight',\n",
       "       'Normal_Weight', 'Obesity_Type_III', 'Obesity_Type_III',\n",
       "       'Insufficient_Weight', 'Insufficient_Weight',\n",
       "       'Insufficient_Weight', 'Insufficient_Weight', 'Obesity_Type_I',\n",
       "       'Obesity_Type_III', 'Overweight_Level_I', 'Insufficient_Weight',\n",
       "       'Insufficient_Weight', 'Insufficient_Weight', 'Normal_Weight',\n",
       "       'Insufficient_Weight', 'Obesity_Type_I', 'Insufficient_Weight',\n",
       "       'Obesity_Type_II', 'Obesity_Type_II', 'Obesity_Type_III',\n",
       "       'Insufficient_Weight', 'Overweight_Level_I', 'Normal_Weight',\n",
       "       'Obesity_Type_II', 'Obesity_Type_I', 'Obesity_Type_III',\n",
       "       'Overweight_Level_II', 'Obesity_Type_II', 'Overweight_Level_II',\n",
       "       'Obesity_Type_I', 'Insufficient_Weight', 'Insufficient_Weight',\n",
       "       'Normal_Weight', 'Normal_Weight', 'Overweight_Level_I',\n",
       "       'Insufficient_Weight', 'Insufficient_Weight',\n",
       "       'Insufficient_Weight', 'Insufficient_Weight',\n",
       "       'Insufficient_Weight', 'Insufficient_Weight', 'Obesity_Type_II',\n",
       "       'Overweight_Level_I', 'Obesity_Type_I', 'Overweight_Level_I',\n",
       "       'Normal_Weight', 'Insufficient_Weight', 'Insufficient_Weight',\n",
       "       'Overweight_Level_II', 'Overweight_Level_I', 'Obesity_Type_I',\n",
       "       'Overweight_Level_II', 'Normal_Weight', 'Insufficient_Weight',\n",
       "       'Obesity_Type_II', 'Obesity_Type_III', 'Overweight_Level_I',\n",
       "       'Obesity_Type_II', 'Overweight_Level_II', 'Obesity_Type_I',\n",
       "       'Overweight_Level_II', 'Obesity_Type_II', 'Overweight_Level_I',\n",
       "       'Obesity_Type_III', 'Insufficient_Weight', 'Obesity_Type_I',\n",
       "       'Obesity_Type_III', 'Overweight_Level_II', 'Insufficient_Weight',\n",
       "       'Obesity_Type_I', 'Obesity_Type_III', 'Insufficient_Weight',\n",
       "       'Obesity_Type_III', 'Obesity_Type_II', 'Obesity_Type_III',\n",
       "       'Normal_Weight', 'Insufficient_Weight', 'Overweight_Level_II',\n",
       "       'Obesity_Type_I', 'Overweight_Level_I', 'Obesity_Type_I',\n",
       "       'Obesity_Type_III', 'Insufficient_Weight', 'Insufficient_Weight',\n",
       "       'Obesity_Type_III', 'Overweight_Level_I', 'Obesity_Type_II',\n",
       "       'Obesity_Type_II', 'Obesity_Type_I', 'Insufficient_Weight',\n",
       "       'Normal_Weight', 'Insufficient_Weight', 'Obesity_Type_II',\n",
       "       'Overweight_Level_II', 'Normal_Weight', 'Obesity_Type_II',\n",
       "       'Obesity_Type_II', 'Overweight_Level_II', 'Normal_Weight',\n",
       "       'Obesity_Type_I', 'Normal_Weight', 'Overweight_Level_I',\n",
       "       'Overweight_Level_II', 'Insufficient_Weight',\n",
       "       'Overweight_Level_II', 'Obesity_Type_III', 'Obesity_Type_I',\n",
       "       'Overweight_Level_I', 'Normal_Weight', 'Obesity_Type_III',\n",
       "       'Insufficient_Weight', 'Obesity_Type_I', 'Overweight_Level_II',\n",
       "       'Overweight_Level_II', 'Obesity_Type_III', 'Normal_Weight',\n",
       "       'Obesity_Type_II', 'Insufficient_Weight', 'Overweight_Level_I',\n",
       "       'Obesity_Type_I', 'Overweight_Level_I', 'Normal_Weight',\n",
       "       'Obesity_Type_II', 'Obesity_Type_III', 'Obesity_Type_II',\n",
       "       'Obesity_Type_II', 'Obesity_Type_I', 'Obesity_Type_II',\n",
       "       'Obesity_Type_I', 'Obesity_Type_I', 'Insufficient_Weight',\n",
       "       'Overweight_Level_I', 'Normal_Weight', 'Obesity_Type_III',\n",
       "       'Obesity_Type_III', 'Overweight_Level_II', 'Obesity_Type_III',\n",
       "       'Obesity_Type_III', 'Obesity_Type_II', 'Obesity_Type_I',\n",
       "       'Obesity_Type_II', 'Obesity_Type_I', 'Normal_Weight',\n",
       "       'Normal_Weight', 'Obesity_Type_II', 'Overweight_Level_I',\n",
       "       'Obesity_Type_III', 'Obesity_Type_III', 'Obesity_Type_I',\n",
       "       'Normal_Weight', 'Overweight_Level_II', 'Overweight_Level_II',\n",
       "       'Obesity_Type_I', 'Overweight_Level_I', 'Overweight_Level_I',\n",
       "       'Obesity_Type_I', 'Obesity_Type_II', 'Obesity_Type_I',\n",
       "       'Obesity_Type_III', 'Insufficient_Weight', 'Insufficient_Weight',\n",
       "       'Obesity_Type_I', 'Obesity_Type_II', 'Obesity_Type_III',\n",
       "       'Insufficient_Weight', 'Overweight_Level_II',\n",
       "       'Insufficient_Weight', 'Obesity_Type_III', 'Normal_Weight',\n",
       "       'Obesity_Type_I', 'Obesity_Type_III', 'Obesity_Type_I',\n",
       "       'Insufficient_Weight', 'Overweight_Level_I', 'Obesity_Type_I',\n",
       "       'Overweight_Level_II', 'Obesity_Type_II', 'Obesity_Type_II',\n",
       "       'Overweight_Level_II', 'Overweight_Level_II', 'Overweight_Level_I',\n",
       "       'Insufficient_Weight', 'Normal_Weight', 'Obesity_Type_I',\n",
       "       'Insufficient_Weight', 'Obesity_Type_II', 'Obesity_Type_III',\n",
       "       'Obesity_Type_III', 'Obesity_Type_II', 'Insufficient_Weight',\n",
       "       'Normal_Weight', 'Overweight_Level_I', 'Insufficient_Weight',\n",
       "       'Insufficient_Weight', 'Obesity_Type_II', 'Obesity_Type_II',\n",
       "       'Obesity_Type_II', 'Obesity_Type_III', 'Obesity_Type_I',\n",
       "       'Overweight_Level_I', 'Obesity_Type_I', 'Obesity_Type_III',\n",
       "       'Overweight_Level_II', 'Insufficient_Weight', 'Obesity_Type_II',\n",
       "       'Obesity_Type_III', 'Insufficient_Weight', 'Insufficient_Weight',\n",
       "       'Obesity_Type_I', 'Obesity_Type_II', 'Normal_Weight',\n",
       "       'Obesity_Type_II', 'Normal_Weight', 'Obesity_Type_II',\n",
       "       'Overweight_Level_I', 'Overweight_Level_I', 'Obesity_Type_I',\n",
       "       'Overweight_Level_II', 'Overweight_Level_I', 'Obesity_Type_II',\n",
       "       'Obesity_Type_I', 'Obesity_Type_II', 'Insufficient_Weight',\n",
       "       'Obesity_Type_III', 'Obesity_Type_III', 'Overweight_Level_II',\n",
       "       'Normal_Weight', 'Obesity_Type_II', 'Obesity_Type_I',\n",
       "       'Obesity_Type_III', 'Obesity_Type_II', 'Obesity_Type_III',\n",
       "       'Normal_Weight', 'Overweight_Level_II', 'Obesity_Type_III',\n",
       "       'Obesity_Type_I', 'Overweight_Level_II', 'Overweight_Level_II',\n",
       "       'Obesity_Type_I', 'Obesity_Type_III', 'Normal_Weight',\n",
       "       'Overweight_Level_II', 'Overweight_Level_I', 'Obesity_Type_I',\n",
       "       'Obesity_Type_II', 'Obesity_Type_II', 'Insufficient_Weight',\n",
       "       'Insufficient_Weight', 'Insufficient_Weight',\n",
       "       'Insufficient_Weight', 'Normal_Weight', 'Obesity_Type_I',\n",
       "       'Obesity_Type_II', 'Overweight_Level_I', 'Obesity_Type_II',\n",
       "       'Overweight_Level_I', 'Insufficient_Weight', 'Normal_Weight',\n",
       "       'Overweight_Level_I', 'Obesity_Type_II', 'Overweight_Level_II',\n",
       "       'Overweight_Level_I', 'Overweight_Level_II', 'Overweight_Level_II',\n",
       "       'Insufficient_Weight', 'Overweight_Level_I', 'Insufficient_Weight',\n",
       "       'Normal_Weight', 'Overweight_Level_I', 'Insufficient_Weight',\n",
       "       'Normal_Weight', 'Obesity_Type_II', 'Obesity_Type_I',\n",
       "       'Overweight_Level_I', 'Overweight_Level_II', 'Obesity_Type_II',\n",
       "       'Obesity_Type_I', 'Insufficient_Weight', 'Obesity_Type_I',\n",
       "       'Overweight_Level_II', 'Overweight_Level_II',\n",
       "       'Insufficient_Weight', 'Insufficient_Weight', 'Obesity_Type_II',\n",
       "       'Obesity_Type_II', 'Obesity_Type_III', 'Overweight_Level_I',\n",
       "       'Obesity_Type_I', 'Obesity_Type_I', 'Obesity_Type_I',\n",
       "       'Overweight_Level_II', 'Overweight_Level_I', 'Overweight_Level_II',\n",
       "       'Overweight_Level_I', 'Overweight_Level_I', 'Overweight_Level_I',\n",
       "       'Obesity_Type_III', 'Overweight_Level_II', 'Overweight_Level_I',\n",
       "       'Obesity_Type_II', 'Overweight_Level_II', 'Obesity_Type_I',\n",
       "       'Normal_Weight', 'Normal_Weight', 'Insufficient_Weight',\n",
       "       'Overweight_Level_I', 'Obesity_Type_III', 'Overweight_Level_II',\n",
       "       'Obesity_Type_I', 'Obesity_Type_III', 'Obesity_Type_III',\n",
       "       'Obesity_Type_II', 'Overweight_Level_I', 'Obesity_Type_I',\n",
       "       'Obesity_Type_I', 'Obesity_Type_III', 'Obesity_Type_III',\n",
       "       'Obesity_Type_I', 'Overweight_Level_II', 'Insufficient_Weight',\n",
       "       'Overweight_Level_II', 'Obesity_Type_III', 'Obesity_Type_II',\n",
       "       'Obesity_Type_I', 'Insufficient_Weight', 'Obesity_Type_III',\n",
       "       'Obesity_Type_I', 'Obesity_Type_II', 'Obesity_Type_I',\n",
       "       'Obesity_Type_II', 'Insufficient_Weight', 'Obesity_Type_II',\n",
       "       'Obesity_Type_II', 'Insufficient_Weight', 'Obesity_Type_II',\n",
       "       'Obesity_Type_I', 'Normal_Weight'], dtype=object)"
      ]
     },
     "execution_count": 305,
     "metadata": {},
     "output_type": "execute_result"
    }
   ],
   "source": [
    "from sklearn.neighbors import KNeighborsClassifier \n",
    "model1=KNeighborsClassifier()\n",
    "model1.fit(X_train,Y_train)\n",
    "y_pred1=model1.predict(X_test)\n",
    "y_pred1"
   ]
  },
  {
   "cell_type": "code",
   "execution_count": 307,
   "id": "9d21f153",
   "metadata": {},
   "outputs": [
    {
     "data": {
      "text/plain": [
       "0.8706624605678234"
      ]
     },
     "execution_count": 307,
     "metadata": {},
     "output_type": "execute_result"
    }
   ],
   "source": [
    "from sklearn.metrics import classification_report,accuracy_score,confusion_matrix #for confusision matrix\n",
    "from sklearn.metrics import ConfusionMatrixDisplay\n",
    "accuracy1=accuracy_score(Y_test,y_pred1)\n",
    "accuracy1"
   ]
  },
  {
   "cell_type": "markdown",
   "id": "afdd4b72",
   "metadata": {},
   "source": [
    "# Using SVC Support Vector Classifier"
   ]
  },
  {
   "cell_type": "code",
   "execution_count": 300,
   "id": "a9e9a409",
   "metadata": {},
   "outputs": [],
   "source": [
    "from sklearn.svm import SVC #SVM"
   ]
  },
  {
   "cell_type": "code",
   "execution_count": 301,
   "id": "b0ffb511",
   "metadata": {},
   "outputs": [
    {
     "name": "stderr",
     "output_type": "stream",
     "text": [
      "C:\\Users\\sreeh\\anaconda3\\Lib\\site-packages\\sklearn\\base.py:464: UserWarning: X does not have valid feature names, but SVC was fitted with feature names\n",
      "  warnings.warn(\n"
     ]
    },
    {
     "data": {
      "text/plain": [
       "array(['Obesity_Type_II', 'Obesity_Type_I', 'Overweight_Level_II',\n",
       "       'Obesity_Type_III', 'Obesity_Type_III', 'Obesity_Type_II',\n",
       "       'Normal_Weight', 'Obesity_Type_III', 'Overweight_Level_II',\n",
       "       'Obesity_Type_III', 'Obesity_Type_III', 'Overweight_Level_II',\n",
       "       'Normal_Weight', 'Obesity_Type_I', 'Normal_Weight',\n",
       "       'Obesity_Type_III', 'Overweight_Level_I', 'Obesity_Type_III',\n",
       "       'Overweight_Level_II', 'Overweight_Level_I', 'Obesity_Type_III',\n",
       "       'Obesity_Type_III', 'Obesity_Type_III', 'Overweight_Level_II',\n",
       "       'Obesity_Type_I', 'Obesity_Type_II', 'Obesity_Type_III',\n",
       "       'Overweight_Level_II', 'Overweight_Level_II', 'Obesity_Type_III',\n",
       "       'Overweight_Level_I', 'Normal_Weight', 'Overweight_Level_II',\n",
       "       'Overweight_Level_II', 'Obesity_Type_II', 'Overweight_Level_I',\n",
       "       'Overweight_Level_II', 'Insufficient_Weight', 'Normal_Weight',\n",
       "       'Insufficient_Weight', 'Normal_Weight', 'Overweight_Level_II',\n",
       "       'Insufficient_Weight', 'Overweight_Level_I', 'Obesity_Type_III',\n",
       "       'Obesity_Type_I', 'Obesity_Type_I', 'Insufficient_Weight',\n",
       "       'Obesity_Type_III', 'Insufficient_Weight', 'Normal_Weight',\n",
       "       'Obesity_Type_III', 'Obesity_Type_III', 'Overweight_Level_II',\n",
       "       'Obesity_Type_I', 'Obesity_Type_I', 'Overweight_Level_I',\n",
       "       'Overweight_Level_II', 'Obesity_Type_III', 'Normal_Weight',\n",
       "       'Obesity_Type_III', 'Insufficient_Weight', 'Overweight_Level_II',\n",
       "       'Insufficient_Weight', 'Insufficient_Weight', 'Obesity_Type_II',\n",
       "       'Overweight_Level_II', 'Overweight_Level_I', 'Overweight_Level_II',\n",
       "       'Overweight_Level_II', 'Overweight_Level_II', 'Obesity_Type_III',\n",
       "       'Obesity_Type_II', 'Overweight_Level_II', 'Obesity_Type_I',\n",
       "       'Normal_Weight', 'Overweight_Level_II', 'Overweight_Level_I',\n",
       "       'Obesity_Type_II', 'Insufficient_Weight', 'Overweight_Level_II',\n",
       "       'Overweight_Level_II', 'Obesity_Type_III', 'Normal_Weight',\n",
       "       'Obesity_Type_I', 'Overweight_Level_I', 'Insufficient_Weight',\n",
       "       'Obesity_Type_I', 'Obesity_Type_III', 'Obesity_Type_III',\n",
       "       'Overweight_Level_I', 'Insufficient_Weight', 'Insufficient_Weight',\n",
       "       'Obesity_Type_III', 'Overweight_Level_II', 'Obesity_Type_III',\n",
       "       'Overweight_Level_II', 'Obesity_Type_II', 'Obesity_Type_II',\n",
       "       'Obesity_Type_II', 'Insufficient_Weight', 'Obesity_Type_I',\n",
       "       'Insufficient_Weight', 'Overweight_Level_I', 'Obesity_Type_III',\n",
       "       'Obesity_Type_I', 'Overweight_Level_I', 'Obesity_Type_III',\n",
       "       'Overweight_Level_I', 'Normal_Weight', 'Insufficient_Weight',\n",
       "       'Overweight_Level_II', 'Overweight_Level_II', 'Overweight_Level_I',\n",
       "       'Obesity_Type_I', 'Obesity_Type_I', 'Obesity_Type_I',\n",
       "       'Obesity_Type_I', 'Obesity_Type_I', 'Insufficient_Weight',\n",
       "       'Obesity_Type_I', 'Obesity_Type_III', 'Insufficient_Weight',\n",
       "       'Insufficient_Weight', 'Obesity_Type_III', 'Overweight_Level_II',\n",
       "       'Overweight_Level_II', 'Overweight_Level_I', 'Normal_Weight',\n",
       "       'Overweight_Level_II', 'Normal_Weight', 'Insufficient_Weight',\n",
       "       'Insufficient_Weight', 'Obesity_Type_III', 'Obesity_Type_I',\n",
       "       'Obesity_Type_III', 'Overweight_Level_I', 'Obesity_Type_II',\n",
       "       'Obesity_Type_III', 'Obesity_Type_II', 'Overweight_Level_II',\n",
       "       'Overweight_Level_II', 'Insufficient_Weight', 'Normal_Weight',\n",
       "       'Insufficient_Weight', 'Normal_Weight', 'Obesity_Type_I',\n",
       "       'Obesity_Type_I', 'Overweight_Level_II', 'Normal_Weight',\n",
       "       'Overweight_Level_II', 'Overweight_Level_I', 'Obesity_Type_III',\n",
       "       'Obesity_Type_III', 'Obesity_Type_III', 'Overweight_Level_II',\n",
       "       'Overweight_Level_II', 'Insufficient_Weight', 'Obesity_Type_II',\n",
       "       'Overweight_Level_I', 'Overweight_Level_II', 'Obesity_Type_III',\n",
       "       'Overweight_Level_II', 'Obesity_Type_III', 'Insufficient_Weight',\n",
       "       'Insufficient_Weight', 'Obesity_Type_I', 'Obesity_Type_III',\n",
       "       'Normal_Weight', 'Obesity_Type_III', 'Normal_Weight',\n",
       "       'Obesity_Type_I', 'Obesity_Type_III', 'Overweight_Level_I',\n",
       "       'Overweight_Level_I', 'Obesity_Type_III', 'Obesity_Type_I',\n",
       "       'Insufficient_Weight', 'Normal_Weight', 'Obesity_Type_III',\n",
       "       'Normal_Weight', 'Overweight_Level_II', 'Obesity_Type_III',\n",
       "       'Obesity_Type_III', 'Obesity_Type_III', 'Insufficient_Weight',\n",
       "       'Normal_Weight', 'Obesity_Type_I', 'Obesity_Type_II',\n",
       "       'Obesity_Type_III', 'Overweight_Level_II', 'Overweight_Level_II',\n",
       "       'Obesity_Type_III', 'Normal_Weight', 'Normal_Weight',\n",
       "       'Obesity_Type_III', 'Obesity_Type_I', 'Obesity_Type_I',\n",
       "       'Overweight_Level_II', 'Overweight_Level_II', 'Normal_Weight',\n",
       "       'Normal_Weight', 'Overweight_Level_I', 'Normal_Weight',\n",
       "       'Obesity_Type_I', 'Overweight_Level_II', 'Obesity_Type_I',\n",
       "       'Overweight_Level_II', 'Obesity_Type_I', 'Insufficient_Weight',\n",
       "       'Insufficient_Weight', 'Normal_Weight', 'Insufficient_Weight',\n",
       "       'Obesity_Type_I', 'Obesity_Type_II', 'Obesity_Type_I',\n",
       "       'Overweight_Level_I', 'Obesity_Type_III', 'Normal_Weight',\n",
       "       'Obesity_Type_III', 'Obesity_Type_III', 'Overweight_Level_II',\n",
       "       'Normal_Weight', 'Insufficient_Weight', 'Obesity_Type_III',\n",
       "       'Obesity_Type_III', 'Overweight_Level_I', 'Overweight_Level_II',\n",
       "       'Overweight_Level_II', 'Insufficient_Weight', 'Obesity_Type_III',\n",
       "       'Obesity_Type_III', 'Overweight_Level_I', 'Obesity_Type_III',\n",
       "       'Insufficient_Weight', 'Obesity_Type_III', 'Normal_Weight',\n",
       "       'Obesity_Type_I', 'Overweight_Level_II', 'Obesity_Type_III',\n",
       "       'Overweight_Level_II', 'Insufficient_Weight', 'Obesity_Type_III',\n",
       "       'Obesity_Type_III', 'Normal_Weight', 'Insufficient_Weight',\n",
       "       'Normal_Weight', 'Obesity_Type_III', 'Overweight_Level_II',\n",
       "       'Overweight_Level_I', 'Overweight_Level_II', 'Overweight_Level_I',\n",
       "       'Overweight_Level_II', 'Obesity_Type_III', 'Overweight_Level_I',\n",
       "       'Obesity_Type_III', 'Normal_Weight', 'Obesity_Type_III',\n",
       "       'Obesity_Type_I', 'Overweight_Level_I', 'Obesity_Type_III',\n",
       "       'Normal_Weight', 'Normal_Weight', 'Insufficient_Weight',\n",
       "       'Insufficient_Weight', 'Overweight_Level_II', 'Obesity_Type_III',\n",
       "       'Insufficient_Weight', 'Overweight_Level_I', 'Obesity_Type_III',\n",
       "       'Overweight_Level_II', 'Overweight_Level_II', 'Obesity_Type_III',\n",
       "       'Insufficient_Weight', 'Obesity_Type_I', 'Obesity_Type_III',\n",
       "       'Insufficient_Weight', 'Overweight_Level_I', 'Insufficient_Weight',\n",
       "       'Overweight_Level_II', 'Obesity_Type_I', 'Overweight_Level_I',\n",
       "       'Insufficient_Weight', 'Normal_Weight', 'Overweight_Level_I',\n",
       "       'Normal_Weight', 'Overweight_Level_II', 'Obesity_Type_III',\n",
       "       'Overweight_Level_II', 'Obesity_Type_III', 'Obesity_Type_III',\n",
       "       'Obesity_Type_III', 'Overweight_Level_I', 'Obesity_Type_III',\n",
       "       'Obesity_Type_III', 'Overweight_Level_I', 'Insufficient_Weight',\n",
       "       'Normal_Weight', 'Obesity_Type_III', 'Obesity_Type_III',\n",
       "       'Normal_Weight', 'Insufficient_Weight', 'Normal_Weight',\n",
       "       'Insufficient_Weight', 'Obesity_Type_I', 'Obesity_Type_III',\n",
       "       'Overweight_Level_I', 'Insufficient_Weight', 'Insufficient_Weight',\n",
       "       'Insufficient_Weight', 'Normal_Weight', 'Normal_Weight',\n",
       "       'Obesity_Type_I', 'Insufficient_Weight', 'Obesity_Type_III',\n",
       "       'Obesity_Type_II', 'Obesity_Type_III', 'Insufficient_Weight',\n",
       "       'Overweight_Level_I', 'Normal_Weight', 'Obesity_Type_III',\n",
       "       'Obesity_Type_I', 'Obesity_Type_III', 'Obesity_Type_I',\n",
       "       'Obesity_Type_III', 'Obesity_Type_I', 'Overweight_Level_II',\n",
       "       'Insufficient_Weight', 'Insufficient_Weight', 'Normal_Weight',\n",
       "       'Normal_Weight', 'Overweight_Level_I', 'Insufficient_Weight',\n",
       "       'Insufficient_Weight', 'Insufficient_Weight', 'Normal_Weight',\n",
       "       'Insufficient_Weight', 'Normal_Weight', 'Obesity_Type_III',\n",
       "       'Overweight_Level_II', 'Overweight_Level_II',\n",
       "       'Overweight_Level_II', 'Normal_Weight', 'Insufficient_Weight',\n",
       "       'Insufficient_Weight', 'Obesity_Type_I', 'Overweight_Level_I',\n",
       "       'Obesity_Type_III', 'Obesity_Type_I', 'Normal_Weight',\n",
       "       'Insufficient_Weight', 'Obesity_Type_I', 'Obesity_Type_III',\n",
       "       'Overweight_Level_I', 'Obesity_Type_II', 'Overweight_Level_II',\n",
       "       'Overweight_Level_II', 'Normal_Weight', 'Obesity_Type_II',\n",
       "       'Overweight_Level_II', 'Obesity_Type_III', 'Insufficient_Weight',\n",
       "       'Obesity_Type_I', 'Obesity_Type_III', 'Obesity_Type_I',\n",
       "       'Insufficient_Weight', 'Obesity_Type_I', 'Obesity_Type_III',\n",
       "       'Insufficient_Weight', 'Obesity_Type_III', 'Obesity_Type_II',\n",
       "       'Obesity_Type_III', 'Normal_Weight', 'Insufficient_Weight',\n",
       "       'Overweight_Level_II', 'Obesity_Type_I', 'Normal_Weight',\n",
       "       'Obesity_Type_I', 'Obesity_Type_III', 'Insufficient_Weight',\n",
       "       'Insufficient_Weight', 'Obesity_Type_III', 'Overweight_Level_II',\n",
       "       'Obesity_Type_I', 'Obesity_Type_III', 'Obesity_Type_I',\n",
       "       'Normal_Weight', 'Normal_Weight', 'Insufficient_Weight',\n",
       "       'Obesity_Type_I', 'Overweight_Level_II', 'Normal_Weight',\n",
       "       'Obesity_Type_II', 'Obesity_Type_I', 'Overweight_Level_II',\n",
       "       'Normal_Weight', 'Obesity_Type_I', 'Normal_Weight',\n",
       "       'Overweight_Level_II', 'Overweight_Level_II',\n",
       "       'Insufficient_Weight', 'Obesity_Type_I', 'Obesity_Type_III',\n",
       "       'Obesity_Type_III', 'Overweight_Level_I', 'Insufficient_Weight',\n",
       "       'Obesity_Type_III', 'Insufficient_Weight', 'Overweight_Level_II',\n",
       "       'Overweight_Level_I', 'Overweight_Level_II', 'Obesity_Type_III',\n",
       "       'Normal_Weight', 'Obesity_Type_III', 'Insufficient_Weight',\n",
       "       'Normal_Weight', 'Overweight_Level_II', 'Overweight_Level_I',\n",
       "       'Normal_Weight', 'Obesity_Type_III', 'Obesity_Type_III',\n",
       "       'Obesity_Type_III', 'Obesity_Type_II', 'Overweight_Level_II',\n",
       "       'Obesity_Type_II', 'Overweight_Level_II', 'Obesity_Type_I',\n",
       "       'Insufficient_Weight', 'Normal_Weight', 'Normal_Weight',\n",
       "       'Obesity_Type_III', 'Obesity_Type_III', 'Overweight_Level_II',\n",
       "       'Obesity_Type_III', 'Obesity_Type_III', 'Obesity_Type_III',\n",
       "       'Obesity_Type_I', 'Obesity_Type_III', 'Obesity_Type_I',\n",
       "       'Normal_Weight', 'Normal_Weight', 'Obesity_Type_I',\n",
       "       'Overweight_Level_I', 'Obesity_Type_III', 'Obesity_Type_III',\n",
       "       'Obesity_Type_III', 'Normal_Weight', 'Overweight_Level_II',\n",
       "       'Overweight_Level_II', 'Obesity_Type_I', 'Overweight_Level_I',\n",
       "       'Normal_Weight', 'Obesity_Type_I', 'Obesity_Type_III',\n",
       "       'Overweight_Level_II', 'Obesity_Type_III', 'Insufficient_Weight',\n",
       "       'Insufficient_Weight', 'Overweight_Level_II', 'Obesity_Type_III',\n",
       "       'Obesity_Type_III', 'Insufficient_Weight', 'Overweight_Level_II',\n",
       "       'Insufficient_Weight', 'Obesity_Type_III', 'Overweight_Level_I',\n",
       "       'Overweight_Level_II', 'Obesity_Type_III', 'Obesity_Type_III',\n",
       "       'Insufficient_Weight', 'Obesity_Type_I', 'Obesity_Type_I',\n",
       "       'Overweight_Level_II', 'Obesity_Type_III', 'Obesity_Type_II',\n",
       "       'Obesity_Type_I', 'Overweight_Level_II', 'Overweight_Level_I',\n",
       "       'Insufficient_Weight', 'Normal_Weight', 'Obesity_Type_I',\n",
       "       'Insufficient_Weight', 'Obesity_Type_III', 'Obesity_Type_III',\n",
       "       'Obesity_Type_III', 'Obesity_Type_III', 'Insufficient_Weight',\n",
       "       'Insufficient_Weight', 'Normal_Weight', 'Normal_Weight',\n",
       "       'Insufficient_Weight', 'Obesity_Type_III', 'Obesity_Type_III',\n",
       "       'Obesity_Type_II', 'Obesity_Type_III', 'Obesity_Type_I',\n",
       "       'Overweight_Level_I', 'Overweight_Level_II', 'Obesity_Type_III',\n",
       "       'Overweight_Level_II', 'Normal_Weight', 'Obesity_Type_III',\n",
       "       'Obesity_Type_III', 'Insufficient_Weight', 'Insufficient_Weight',\n",
       "       'Obesity_Type_III', 'Obesity_Type_III', 'Normal_Weight',\n",
       "       'Obesity_Type_III', 'Normal_Weight', 'Obesity_Type_II',\n",
       "       'Normal_Weight', 'Overweight_Level_I', 'Overweight_Level_II',\n",
       "       'Overweight_Level_I', 'Overweight_Level_I', 'Obesity_Type_III',\n",
       "       'Obesity_Type_I', 'Obesity_Type_II', 'Insufficient_Weight',\n",
       "       'Obesity_Type_III', 'Obesity_Type_III', 'Overweight_Level_II',\n",
       "       'Normal_Weight', 'Obesity_Type_II', 'Obesity_Type_I',\n",
       "       'Obesity_Type_III', 'Obesity_Type_III', 'Obesity_Type_III',\n",
       "       'Insufficient_Weight', 'Obesity_Type_I', 'Obesity_Type_III',\n",
       "       'Obesity_Type_II', 'Overweight_Level_II', 'Overweight_Level_II',\n",
       "       'Obesity_Type_II', 'Obesity_Type_III', 'Insufficient_Weight',\n",
       "       'Overweight_Level_II', 'Overweight_Level_I', 'Obesity_Type_III',\n",
       "       'Obesity_Type_III', 'Obesity_Type_II', 'Insufficient_Weight',\n",
       "       'Insufficient_Weight', 'Insufficient_Weight',\n",
       "       'Insufficient_Weight', 'Insufficient_Weight',\n",
       "       'Overweight_Level_II', 'Obesity_Type_I', 'Overweight_Level_I',\n",
       "       'Obesity_Type_III', 'Overweight_Level_I', 'Insufficient_Weight',\n",
       "       'Normal_Weight', 'Overweight_Level_I', 'Obesity_Type_II',\n",
       "       'Overweight_Level_II', 'Overweight_Level_II',\n",
       "       'Overweight_Level_II', 'Overweight_Level_II',\n",
       "       'Insufficient_Weight', 'Overweight_Level_I', 'Normal_Weight',\n",
       "       'Normal_Weight', 'Overweight_Level_I', 'Insufficient_Weight',\n",
       "       'Normal_Weight', 'Obesity_Type_I', 'Obesity_Type_I',\n",
       "       'Overweight_Level_II', 'Obesity_Type_I', 'Obesity_Type_II',\n",
       "       'Overweight_Level_II', 'Insufficient_Weight',\n",
       "       'Overweight_Level_II', 'Overweight_Level_II',\n",
       "       'Overweight_Level_II', 'Insufficient_Weight',\n",
       "       'Insufficient_Weight', 'Obesity_Type_III', 'Obesity_Type_II',\n",
       "       'Obesity_Type_III', 'Overweight_Level_I', 'Obesity_Type_I',\n",
       "       'Obesity_Type_I', 'Obesity_Type_III', 'Obesity_Type_I',\n",
       "       'Overweight_Level_I', 'Overweight_Level_I', 'Obesity_Type_I',\n",
       "       'Overweight_Level_I', 'Overweight_Level_I', 'Obesity_Type_III',\n",
       "       'Obesity_Type_I', 'Overweight_Level_I', 'Obesity_Type_II',\n",
       "       'Overweight_Level_II', 'Overweight_Level_II', 'Normal_Weight',\n",
       "       'Normal_Weight', 'Insufficient_Weight', 'Overweight_Level_II',\n",
       "       'Obesity_Type_III', 'Overweight_Level_II', 'Obesity_Type_II',\n",
       "       'Obesity_Type_III', 'Obesity_Type_III', 'Obesity_Type_III',\n",
       "       'Overweight_Level_I', 'Obesity_Type_I', 'Obesity_Type_III',\n",
       "       'Obesity_Type_III', 'Obesity_Type_III', 'Overweight_Level_II',\n",
       "       'Overweight_Level_II', 'Insufficient_Weight',\n",
       "       'Overweight_Level_II', 'Obesity_Type_III', 'Obesity_Type_II',\n",
       "       'Overweight_Level_II', 'Insufficient_Weight', 'Obesity_Type_III',\n",
       "       'Overweight_Level_II', 'Obesity_Type_III', 'Obesity_Type_I',\n",
       "       'Obesity_Type_III', 'Insufficient_Weight', 'Obesity_Type_II',\n",
       "       'Obesity_Type_I', 'Normal_Weight', 'Obesity_Type_II',\n",
       "       'Obesity_Type_I', 'Normal_Weight'], dtype=object)"
      ]
     },
     "execution_count": 301,
     "metadata": {},
     "output_type": "execute_result"
    }
   ],
   "source": [
    "model2=SVC()\n",
    "model2.fit(X_train,Y_train)\n",
    "y_pred2=model2.predict(X_test)\n",
    "y_pred2"
   ]
  },
  {
   "cell_type": "code",
   "execution_count": 308,
   "id": "70f5743d",
   "metadata": {},
   "outputs": [
    {
     "data": {
      "text/plain": [
       "0.6009463722397477"
      ]
     },
     "execution_count": 308,
     "metadata": {},
     "output_type": "execute_result"
    }
   ],
   "source": [
    "accuracy2=accuracy_score(Y_test,y_pred2)\n",
    "accuracy2"
   ]
  },
  {
   "cell_type": "markdown",
   "id": "168b482d",
   "metadata": {},
   "source": [
    "# kNN model is having higher accuracy than svc"
   ]
  },
  {
   "cell_type": "code",
   "execution_count": 309,
   "id": "9cc67b13",
   "metadata": {},
   "outputs": [
    {
     "name": "stdout",
     "output_type": "stream",
     "text": [
      "                     precision    recall  f1-score   support\n",
      "\n",
      "Insufficient_Weight       0.99      0.79      0.88       113\n",
      "      Normal_Weight       0.53      0.82      0.64        56\n",
      "     Obesity_Type_I       0.95      0.87      0.91       113\n",
      "    Obesity_Type_II       0.97      0.96      0.96        91\n",
      "   Obesity_Type_III       0.97      0.97      0.97       101\n",
      " Overweight_Level_I       0.80      0.79      0.80        82\n",
      "Overweight_Level_II       0.84      0.88      0.86        78\n",
      "\n",
      "           accuracy                           0.87       634\n",
      "          macro avg       0.86      0.87      0.86       634\n",
      "       weighted avg       0.89      0.87      0.88       634\n",
      "\n"
     ]
    }
   ],
   "source": [
    "report1=classification_report(y_pred1,Y_test)\n",
    "print(report1)"
   ]
  }
 ],
 "metadata": {
  "kernelspec": {
   "display_name": "Python 3 (ipykernel)",
   "language": "python",
   "name": "python3"
  },
  "language_info": {
   "codemirror_mode": {
    "name": "ipython",
    "version": 3
   },
   "file_extension": ".py",
   "mimetype": "text/x-python",
   "name": "python",
   "nbconvert_exporter": "python",
   "pygments_lexer": "ipython3",
   "version": "3.11.5"
  }
 },
 "nbformat": 4,
 "nbformat_minor": 5
}
